{
 "cells": [
  {
   "cell_type": "markdown",
   "metadata": {},
   "source": [
    "# All or Any"
   ]
  },
  {
   "cell_type": "markdown",
   "metadata": {},
   "source": [
    "   Have you ever had multiple conditions and was confused with multiple 'and' or 'or' between them? Any or all conditions can simplify this multifold!\n",
    "   \n",
    "   \n",
    "   \n",
    "   any(list) ----> Returns true only if any of the conditions in the list is true.\n",
    "  \n",
    "  all(list) ----> Returns true only if all of the conditions in the list is true."
   ]
  },
  {
   "cell_type": "code",
   "execution_count": 1,
   "metadata": {},
   "outputs": [
    {
     "name": "stdout",
     "output_type": "stream",
     "text": [
      "Atleast one condition passed!\n"
     ]
    }
   ],
   "source": [
    "First_cond = True\n",
    "Second_cond = False\n",
    "Third_cond = True\n",
    "conditions = [First_cond, Second_cond, Third_cond]\n",
    "\n",
    "if any(conditions):\n",
    "    print(\"Atleast one condition passed!\")\n",
    "else:\n",
    "    print(\"No conditions!\")"
   ]
  },
  {
   "cell_type": "code",
   "execution_count": 2,
   "metadata": {},
   "outputs": [
    {
     "name": "stdout",
     "output_type": "stream",
     "text": [
      "Not all conditions passed!\n"
     ]
    }
   ],
   "source": [
    "if all(conditions):\n",
    "    print(\"All conditions passed!\")\n",
    "else:\n",
    "    print(\"Not all conditions passed!\")"
   ]
  },
  {
   "cell_type": "markdown",
   "metadata": {},
   "source": [
    "# Checking Leap Year\n",
    "   In order to check for a leap year, there are multiple conditions. A year is said to be leap year if it has the following conditions:\n",
    "   \n",
    "    - It must be divisible by 4.\n",
    "    - If it is also divisible by 100, then it should also be divible 400.\n",
    "    \n",
    "Case 1:\n",
    "     2004 satisfy first condition and second condition is irrelevant to it! So it is a leap year.\n",
    "\n",
    "Case 2:\n",
    "     2000 satisfy both the conditions. It is divisible by 4, though it is divisible by 100, it is also divible by 400! So it is a leap year.\n",
    "     \n",
    "Case 3:\n",
    "    2100 satisfy first, but fails the second. It is divible by 4 and also 100 but not 400! So it is not a leap year.\n",
    "    \n",
    "    \n",
    "    Here is the logic with multiple rules are framed with 'any' and 'all'"
   ]
  },
  {
   "cell_type": "code",
   "execution_count": 3,
   "metadata": {},
   "outputs": [],
   "source": [
    "def check_leap_year(yr):\n",
    "    if any([all([yr%4==0, yr%100!=0]),yr%400==0]):\n",
    "        print(\"Thats a leap Year!\")\n",
    "    else:\n",
    "        print(\"This is not a leap year\")\n",
    "        "
   ]
  },
  {
   "cell_type": "code",
   "execution_count": 4,
   "metadata": {},
   "outputs": [
    {
     "name": "stdout",
     "output_type": "stream",
     "text": [
      "Thats a leap Year!\n"
     ]
    }
   ],
   "source": [
    "check_leap_year(2004)"
   ]
  },
  {
   "cell_type": "code",
   "execution_count": 5,
   "metadata": {},
   "outputs": [
    {
     "name": "stdout",
     "output_type": "stream",
     "text": [
      "Thats a leap Year!\n"
     ]
    }
   ],
   "source": [
    "check_leap_year(2000)"
   ]
  },
  {
   "cell_type": "code",
   "execution_count": 6,
   "metadata": {},
   "outputs": [
    {
     "name": "stdout",
     "output_type": "stream",
     "text": [
      "This is not a leap year\n"
     ]
    }
   ],
   "source": [
    "check_leap_year(2100)"
   ]
  }
 ],
 "metadata": {
  "kernelspec": {
   "display_name": "Python 3",
   "language": "python",
   "name": "python3"
  },
  "language_info": {
   "codemirror_mode": {
    "name": "ipython",
    "version": 3
   },
   "file_extension": ".py",
   "mimetype": "text/x-python",
   "name": "python",
   "nbconvert_exporter": "python",
   "pygments_lexer": "ipython3",
   "version": "3.8.3"
  }
 },
 "nbformat": 4,
 "nbformat_minor": 4
}
