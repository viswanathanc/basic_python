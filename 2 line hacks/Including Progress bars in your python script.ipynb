{
 "cells": [
  {
   "cell_type": "markdown",
   "metadata": {},
   "source": [
    "# 1) Including Progress Bars:\n",
    "\n",
    "  When you perform a loop operation in python, you may want to know how much iterations are completed. I have seen people 'print' their iteration number on each iterations. But this idea makes your output very long... Some use dots....... but they are not pleasant to see and we cannot go on to count the number of dots...\n",
    "  \n",
    "  While installing a software, we get to see how much have been installed through a progress bar. If we get to see a similar bar here it might be of great help!\n",
    "  \n",
    "  This were the idea of progress bar and the package 'tqdm' stands.. Lets run a python script and see how it works..  "
   ]
  },
  {
   "cell_type": "code",
   "execution_count": 1,
   "metadata": {},
   "outputs": [
    {
     "name": "stdout",
     "output_type": "stream",
     "text": [
      "Defaulting to user installation because normal site-packages is not writeable\n",
      "Requirement already satisfied: tqdm in /home/viswanathan/.local/lib/python3.6/site-packages (4.42.0)\n"
     ]
    }
   ],
   "source": [
    "# installing tqdm\n",
    "!pip3 install tqdm"
   ]
  },
  {
   "cell_type": "code",
   "execution_count": 2,
   "metadata": {},
   "outputs": [],
   "source": [
    "#It takes seconds seconds to add first 10000 numbers, you do not need a progess bar here!\n",
    "tot = 0\n",
    "for i in range(1,10000):\n",
    "    tot = tot + 1 "
   ]
  },
  {
   "cell_type": "code",
   "execution_count": 3,
   "metadata": {},
   "outputs": [],
   "source": [
    "# What if we go to 10 million!\n",
    "tot = 0\n",
    "for i in range(1,10000000):\n",
    "    tot = tot + 1 \n",
    "# This takes time..."
   ]
  },
  {
   "cell_type": "code",
   "execution_count": 4,
   "metadata": {},
   "outputs": [
    {
     "name": "stderr",
     "output_type": "stream",
     "text": [
      "100%|██████████| 9999999/9999999 [00:06<00:00, 1658256.62it/s]\n"
     ]
    }
   ],
   "source": [
    "# So lets try tqdm now..\n",
    "from tqdm import tqdm\n",
    "tot = 0\n",
    "for i in tqdm(range(1,10000000)):\n",
    "    tot = tot + 1"
   ]
  },
  {
   "cell_type": "markdown",
   "metadata": {},
   "source": [
    "So use tqdm! know your progress!"
   ]
  }
 ],
 "metadata": {
  "kernelspec": {
   "display_name": "Python 3",
   "language": "python",
   "name": "python3"
  },
  "language_info": {
   "codemirror_mode": {
    "name": "ipython",
    "version": 3
   },
   "file_extension": ".py",
   "mimetype": "text/x-python",
   "name": "python",
   "nbconvert_exporter": "python",
   "pygments_lexer": "ipython3",
   "version": "3.6.9"
  }
 },
 "nbformat": 4,
 "nbformat_minor": 2
}
