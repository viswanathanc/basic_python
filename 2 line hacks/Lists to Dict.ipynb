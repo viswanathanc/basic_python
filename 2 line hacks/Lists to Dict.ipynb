{
 "cells": [
  {
   "cell_type": "markdown",
   "metadata": {},
   "source": [
    "# List to Dict\n",
    "\n",
    "  Let us suppose we have a list of states in a country and a list of capitals of the states of the country seperately, but arranged in the same order. How will you go about to creating a dictionay, so that you can know which is the capital of a given state..."
   ]
  },
  {
   "cell_type": "code",
   "execution_count": 1,
   "metadata": {},
   "outputs": [
    {
     "data": {
      "text/plain": [
       "{'Tamilnadu': 'Chennai',\n",
       " 'Kerala': 'Thiruvanandhapuram',\n",
       " 'Karnataka': 'Bengaluru',\n",
       " 'Andra Pradesh': 'Amaravathi',\n",
       " 'Telengana': 'Hyderabad'}"
      ]
     },
     "execution_count": 1,
     "metadata": {},
     "output_type": "execute_result"
    }
   ],
   "source": [
    "#way 1 : using dict and zip function\n",
    "states = ['Tamilnadu','Kerala','Karnataka','Andra Pradesh','Telengana']\n",
    "capital = ['Chennai','Thiruvanandhapuram','Bengaluru','Amaravathi','Hyderabad']\n",
    "\n",
    "State_Capitals = dict(zip(states,capital))\n",
    "State_Capitals"
   ]
  },
  {
   "cell_type": "code",
   "execution_count": 2,
   "metadata": {},
   "outputs": [
    {
     "data": {
      "text/plain": [
       "{'Tamilnadu': 'Chennai',\n",
       " 'Kerala': 'Thiruvanandhapuram',\n",
       " 'Karnataka': 'Bengaluru',\n",
       " 'Andra Pradesh': 'Amaravathi',\n",
       " 'Telengana': 'Hyderabad'}"
      ]
     },
     "execution_count": 2,
     "metadata": {},
     "output_type": "execute_result"
    }
   ],
   "source": [
    "#way 2 : using dictionary comprehension and zip function\n",
    "states = ['Tamilnadu','Kerala','Karnataka','Andra Pradesh','Telengana']\n",
    "capital = ['Chennai','Thiruvanandhapuram','Bengaluru','Amaravathi','Hyderabad']\n",
    "\n",
    "State_Capitals = {k:v for (k,v) in zip(states,capital)}\n",
    "State_Capitals"
   ]
  },
  {
   "cell_type": "code",
   "execution_count": 3,
   "metadata": {},
   "outputs": [
    {
     "data": {
      "text/plain": [
       "{'Tamilnadu': 'Chennai',\n",
       " 'Kerala': 'Thiruvanandhapuram',\n",
       " 'Karnataka': 'Bengaluru',\n",
       " 'Andra Pradesh': 'Amaravathi',\n",
       " 'Telengana': 'Hyderabad'}"
      ]
     },
     "execution_count": 3,
     "metadata": {},
     "output_type": "execute_result"
    }
   ],
   "source": [
    "#way 3 : using list comprehension and zip function\n",
    "states = ['Tamilnadu','Kerala','Karnataka','Andra Pradesh','Telengana']\n",
    "capital = ['Chennai','Thiruvanandhapuram','Bengaluru','Amaravathi','Hyderabad']\n",
    "\n",
    "State_Capitals = dict([[x,y] for (x,y) in zip(states,capital) ])\n",
    "State_Capitals"
   ]
  }
 ],
 "metadata": {
  "kernelspec": {
   "display_name": "Python 3",
   "language": "python",
   "name": "python3"
  },
  "language_info": {
   "codemirror_mode": {
    "name": "ipython",
    "version": 3
   },
   "file_extension": ".py",
   "mimetype": "text/x-python",
   "name": "python",
   "nbconvert_exporter": "python",
   "pygments_lexer": "ipython3",
   "version": "3.6.9"
  }
 },
 "nbformat": 4,
 "nbformat_minor": 2
}
