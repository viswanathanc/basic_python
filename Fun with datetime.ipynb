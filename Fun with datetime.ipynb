{
 "cells": [
  {
   "cell_type": "markdown",
   "metadata": {},
   "source": [
    "# Fun with datetime\n",
    "    Date and time are not just integers, they have there own conventions. 60 second make a minute, 60 minute makes an hour and so on. Regular data type would not be used work with date and time. Python's 'datetime' package helps us achieve this goal! This article would be an introductory tutorial on datetime."
   ]
  },
  {
   "cell_type": "code",
   "execution_count": 1,
   "metadata": {},
   "outputs": [],
   "source": [
    "#importing datetime package\n",
    "import datetime"
   ]
  },
  {
   "cell_type": "markdown",
   "metadata": {},
   "source": [
    "# date\n",
    "    Date package of datetime module helps us work with date. We have a variable \"created_date\" that stores the date when this article was created."
   ]
  },
  {
   "cell_type": "code",
   "execution_count": 2,
   "metadata": {},
   "outputs": [
    {
     "data": {
      "text/plain": [
       "datetime.date(2020, 1, 18)"
      ]
     },
     "execution_count": 2,
     "metadata": {},
     "output_type": "execute_result"
    }
   ],
   "source": [
    "created_date = datetime.date(2020,1,18)\n",
    "\n",
    "created_date"
   ]
  },
  {
   "cell_type": "markdown",
   "metadata": {},
   "source": [
    "We can get the day, month and year from the date using objects. We can also get the day of the week, which in our case is 6 (saturday). The method today() will return the date of today."
   ]
  },
  {
   "cell_type": "code",
   "execution_count": 3,
   "metadata": {},
   "outputs": [
    {
     "name": "stdout",
     "output_type": "stream",
     "text": [
      "Day: 18 \n",
      "Month: 1 \n",
      "Year: 2020\n",
      "Day of the week: 6\n"
     ]
    }
   ],
   "source": [
    "print(\"Day:\",created_date.day,\"\\nMonth:\",created_date.month,\"\\nYear:\",created_date.year)\n",
    "print(\"Day of the week:\",created_date.isoweekday())"
   ]
  },
  {
   "cell_type": "code",
   "execution_count": 4,
   "metadata": {},
   "outputs": [
    {
     "data": {
      "text/plain": [
       "datetime.date(2020, 1, 18)"
      ]
     },
     "execution_count": 4,
     "metadata": {},
     "output_type": "execute_result"
    }
   ],
   "source": [
    "today = created_date.today()\n",
    "today"
   ]
  },
  {
   "cell_type": "markdown",
   "metadata": {},
   "source": [
    "We can find the difference between two days by using '-' operator. This will return a time delta object."
   ]
  },
  {
   "cell_type": "code",
   "execution_count": 5,
   "metadata": {},
   "outputs": [
    {
     "data": {
      "text/plain": [
       "datetime.timedelta(0)"
      ]
     },
     "execution_count": 5,
     "metadata": {},
     "output_type": "execute_result"
    }
   ],
   "source": [
    "today-created_date"
   ]
  },
  {
   "cell_type": "code",
   "execution_count": 6,
   "metadata": {},
   "outputs": [
    {
     "name": "stdout",
     "output_type": "stream",
     "text": [
      "It has been 0:00:00 since this was created\n"
     ]
    }
   ],
   "source": [
    "print(\"It has been {} since this was created\".format(today-created_date))"
   ]
  },
  {
   "cell_type": "markdown",
   "metadata": {},
   "source": [
    "# time\n",
    "    Time module of datetime package is to work on the time object. \n",
    "    datetime.time(hh,mm,ss) creates the time where 'hh' is hour, 'mm' is minute and 'ss' is seconds\n",
    "    Similar to the date module, parts of the time object can be obtained by getting the attributes of them like hour, minute and second."
   ]
  },
  {
   "cell_type": "code",
   "execution_count": 7,
   "metadata": {},
   "outputs": [
    {
     "data": {
      "text/plain": [
       "datetime.time(14, 24, 15)"
      ]
     },
     "execution_count": 7,
     "metadata": {},
     "output_type": "execute_result"
    }
   ],
   "source": [
    "created_time = datetime.time(14,24,15)\n",
    "created_time"
   ]
  },
  {
   "cell_type": "code",
   "execution_count": 8,
   "metadata": {},
   "outputs": [
    {
     "name": "stdout",
     "output_type": "stream",
     "text": [
      "Hour: 14 \n",
      "Minutes: 24 \n",
      "Second: 15\n"
     ]
    }
   ],
   "source": [
    "print(\"Hour:\",created_time.hour,\"\\nMinutes:\",created_time.minute,\"\\nSecond:\",created_time.second)"
   ]
  },
  {
   "cell_type": "markdown",
   "metadata": {},
   "source": [
    "# datetime\n",
    "    It is a combination of date and time objects. Now i have created my Birth date with time in a datetime object called 'my_birth'."
   ]
  },
  {
   "cell_type": "code",
   "execution_count": 9,
   "metadata": {},
   "outputs": [],
   "source": [
    "my_birth = datetime.datetime(day=9,month=10,year=1994,hour=3,minute=28,second=49)"
   ]
  },
  {
   "cell_type": "markdown",
   "metadata": {},
   "source": [
    "Constraints for arguments\n",
    "\n",
    "MINYEAR <= year <= MAXYEAR,\n",
    "\n",
    "1 <= month <= 12,\n",
    "\n",
    "1 <= day <= number of days in the given month and year,\n",
    "\n",
    "0 <= hour < 24,\n",
    "\n",
    "0 <= minute < 60,\n",
    "\n",
    "0 <= second < 60,\n",
    "\n",
    "0 <= microsecond < 100 0000\n",
    "\n",
    "where MINYEAR = 1\n",
    "and MAXYEAR = 9999"
   ]
  },
  {
   "cell_type": "code",
   "execution_count": 10,
   "metadata": {},
   "outputs": [
    {
     "data": {
      "text/plain": [
       "datetime.datetime(1, 1, 1, 0, 0)"
      ]
     },
     "execution_count": 10,
     "metadata": {},
     "output_type": "execute_result"
    }
   ],
   "source": [
    "#Minimum date possible\n",
    "datetime.datetime.min"
   ]
  },
  {
   "cell_type": "code",
   "execution_count": 11,
   "metadata": {},
   "outputs": [
    {
     "data": {
      "text/plain": [
       "datetime.datetime(9999, 12, 31, 23, 59, 59, 999999)"
      ]
     },
     "execution_count": 11,
     "metadata": {},
     "output_type": "execute_result"
    }
   ],
   "source": [
    "#Maximum date possible\n",
    "datetime.datetime.max"
   ]
  },
  {
   "cell_type": "markdown",
   "metadata": {},
   "source": [
    "    To get the time now we need not look at the watch! we can just get it from the terminal by using 'now()' method. "
   ]
  },
  {
   "cell_type": "code",
   "execution_count": 12,
   "metadata": {},
   "outputs": [
    {
     "data": {
      "text/plain": [
       "datetime.datetime(2020, 1, 18, 18, 14, 25, 508865)"
      ]
     },
     "execution_count": 12,
     "metadata": {},
     "output_type": "execute_result"
    }
   ],
   "source": [
    "#time now\n",
    "datetime.datetime.now()"
   ]
  },
  {
   "cell_type": "code",
   "execution_count": 13,
   "metadata": {},
   "outputs": [
    {
     "data": {
      "text/plain": [
       "datetime.datetime(2020, 1, 18, 18, 14, 25, 575746)"
      ]
     },
     "execution_count": 13,
     "metadata": {},
     "output_type": "execute_result"
    }
   ],
   "source": [
    "datetime.datetime.today()"
   ]
  },
  {
   "cell_type": "markdown",
   "metadata": {},
   "source": [
    "   Similar to date and time, datetime object also returns there parts with an attribute."
   ]
  },
  {
   "cell_type": "code",
   "execution_count": 14,
   "metadata": {},
   "outputs": [
    {
     "name": "stdout",
     "output_type": "stream",
     "text": [
      "day: 9 Month: 10 hour: 3\n"
     ]
    }
   ],
   "source": [
    "print(\"day:\",my_birth.day,\"Month:\",my_birth.month,\"hour:\",my_birth.hour)"
   ]
  },
  {
   "cell_type": "markdown",
   "metadata": {},
   "source": [
    " The term 'my_birth.month' is also intuitive."
   ]
  },
  {
   "cell_type": "markdown",
   "metadata": {},
   "source": [
    "# timestamp\n",
    "    timestamp returns the POSIX timestamp (ie the number seconds passed since 01/01/1970.\n",
    "    "
   ]
  },
  {
   "cell_type": "code",
   "execution_count": 15,
   "metadata": {},
   "outputs": [
    {
     "data": {
      "text/plain": [
       "781653529.0"
      ]
     },
     "execution_count": 15,
     "metadata": {},
     "output_type": "execute_result"
    }
   ],
   "source": [
    "my_birth.timestamp()"
   ]
  },
  {
   "cell_type": "code",
   "execution_count": 16,
   "metadata": {},
   "outputs": [
    {
     "data": {
      "text/plain": [
       "0.0"
      ]
     },
     "execution_count": 16,
     "metadata": {},
     "output_type": "execute_result"
    }
   ],
   "source": [
    "datetime.datetime(1970,1,1,5,30).timestamp()"
   ]
  },
  {
   "cell_type": "markdown",
   "metadata": {},
   "source": [
    "# timedelta\n",
    "    As already discussed, it is the difference between two points of time. "
   ]
  },
  {
   "cell_type": "code",
   "execution_count": 17,
   "metadata": {},
   "outputs": [
    {
     "data": {
      "text/plain": [
       "datetime.datetime(1994, 10, 10, 3, 28, 49)"
      ]
     },
     "execution_count": 17,
     "metadata": {},
     "output_type": "execute_result"
    }
   ],
   "source": [
    "datetime.timedelta(1)+my_birth\n",
    "#next day to my birthday"
   ]
  },
  {
   "cell_type": "code",
   "execution_count": 18,
   "metadata": {},
   "outputs": [
    {
     "data": {
      "text/plain": [
       "datetime.datetime(2020, 4, 27, 18, 14, 25, 979083)"
      ]
     },
     "execution_count": 18,
     "metadata": {},
     "output_type": "execute_result"
    }
   ],
   "source": [
    "datetime.timedelta(100) + datetime.datetime.today()\n",
    "# 100 days from today"
   ]
  },
  {
   "cell_type": "code",
   "execution_count": 19,
   "metadata": {},
   "outputs": [
    {
     "data": {
      "text/plain": [
       "datetime.datetime(2020, 1, 18, 19, 14, 26, 53422)"
      ]
     },
     "execution_count": 19,
     "metadata": {},
     "output_type": "execute_result"
    }
   ],
   "source": [
    "datetime.timedelta(hours=1) + datetime.datetime.now()\n",
    "# 1 hour from now"
   ]
  },
  {
   "cell_type": "code",
   "execution_count": 20,
   "metadata": {},
   "outputs": [
    {
     "data": {
      "text/plain": [
       "datetime.timedelta(9232, 53137, 131070)"
      ]
     },
     "execution_count": 20,
     "metadata": {},
     "output_type": "execute_result"
    }
   ],
   "source": [
    "(datetime.datetime.today()-my_birth)\n",
    "#No. of days i have lived"
   ]
  },
  {
   "cell_type": "code",
   "execution_count": 21,
   "metadata": {},
   "outputs": [
    {
     "data": {
      "text/plain": [
       "True"
      ]
     },
     "execution_count": 21,
     "metadata": {},
     "output_type": "execute_result"
    }
   ],
   "source": [
    "#Did i live greater than 10,000 days?\n",
    "\n",
    "datetime.timedelta(10000) > (datetime.datetime.today()-my_birth)"
   ]
  },
  {
   "cell_type": "code",
   "execution_count": 22,
   "metadata": {},
   "outputs": [
    {
     "data": {
      "text/plain": [
       "datetime.datetime(2022, 2, 24, 3, 28, 49)"
      ]
     },
     "execution_count": 22,
     "metadata": {},
     "output_type": "execute_result"
    }
   ],
   "source": [
    "#when will be my 10000th day on earth?\n",
    "my_birth + datetime.timedelta(days=10000)"
   ]
  },
  {
   "cell_type": "code",
   "execution_count": 23,
   "metadata": {},
   "outputs": [
    {
     "name": "stdout",
     "output_type": "stream",
     "text": [
      "9999-12-31\n",
      "0001-01-01\n"
     ]
    }
   ],
   "source": [
    "print(created_date.max) #maximum date possible\n",
    "print(created_date.min) #minimum date possible"
   ]
  },
  {
   "cell_type": "markdown",
   "metadata": {},
   "source": [
    "    Reference: https://docs.python.org/3/library/datetime.html#datetime.datetime"
   ]
  }
 ],
 "metadata": {
  "kernelspec": {
   "display_name": "Python 3",
   "language": "python",
   "name": "python3"
  },
  "language_info": {
   "codemirror_mode": {
    "name": "ipython",
    "version": 3
   },
   "file_extension": ".py",
   "mimetype": "text/x-python",
   "name": "python",
   "nbconvert_exporter": "python",
   "pygments_lexer": "ipython3",
   "version": "3.6.9"
  }
 },
 "nbformat": 4,
 "nbformat_minor": 2
}
